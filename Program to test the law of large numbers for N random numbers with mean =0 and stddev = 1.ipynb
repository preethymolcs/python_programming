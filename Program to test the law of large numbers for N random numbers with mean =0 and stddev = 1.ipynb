{
 "cells": [
  {
   "cell_type": "code",
   "execution_count": 18,
   "metadata": {},
   "outputs": [
    {
     "name": "stdout",
     "output_type": "stream",
     "text": [
      "Numbers between -1 and 1    6793\n",
      "mean value of occurence   0.6793\n"
     ]
    }
   ],
   "source": [
    "# To check how many of the random numbers fall between -1 and 1 and divide by total number\n",
    "import numpy as np\n",
    "from numpy.random import randn\n",
    "N = 10000\n",
    "no_in_range=0\n",
    "for i in randn(N):\n",
    "    if i>-1 and  i < 1:\n",
    "        no_in_range = no_in_range + 1\n",
    "    else :\n",
    "        no_not_in_range = no_not_in_range +1\n",
    "print(\"Numbers between -1 and 1   \" ,no_in_range)\n",
    "mean = no_in_range/N\n",
    "print(\"mean value of occurence  \", mean)"
   ]
  },
  {
   "cell_type": "code",
   "execution_count": null,
   "metadata": {
    "collapsed": true
   },
   "outputs": [],
   "source": []
  },
  {
   "cell_type": "code",
   "execution_count": null,
   "metadata": {
    "collapsed": true
   },
   "outputs": [],
   "source": []
  }
 ],
 "metadata": {
  "kernelspec": {
   "display_name": "Python 3",
   "language": "python",
   "name": "python3"
  },
  "language_info": {
   "codemirror_mode": {
    "name": "ipython",
    "version": 3
   },
   "file_extension": ".py",
   "mimetype": "text/x-python",
   "name": "python",
   "nbconvert_exporter": "python",
   "pygments_lexer": "ipython3",
   "version": "3.6.3"
  }
 },
 "nbformat": 4,
 "nbformat_minor": 2
}
